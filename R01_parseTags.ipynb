{
 "cells": [
  {
   "cell_type": "code",
   "execution_count": 1,
   "metadata": {},
   "outputs": [],
   "source": [
    "import numpy as np\n",
    "import pdb, json\n",
    "import pandas as pd\n",
    "\n",
    "df_tags = pd.read_json(\"train/train_tags.json\")\n",
    "df_cat = pd.read_csv(\"train/train_category.txt\",delimiter=\" \")\n",
    "df_add = pd.read_csv(\"train/train_additional.txt\",delimiter=\" \")\n",
    "\n",
    "df_tags2 = pd.read_json(\"test/test_tags.json\")\n",
    "df_cat2 = pd.read_json(\"test/test_category.json\")\n",
    "df_add2 = pd.read_json(\"test/test_additional.json\")\n",
    "\n",
    "df_tags = df_tags.merge(df_tags2, how='outer')\n",
    "df_cat = df_cat.merge(df_cat2, how='outer')\n",
    "df_add = df_add.merge(df_add2, how='outer')\n",
    "df_cat = df_cat.merge(df_add, on=['Uid', 'Pid']).merge(df_tags, on=['Uid', 'Pid'])\n",
    "\n",
    "text = df_tags['Alltags']\n",
    "    \n",
    "df_tags['Alltags'].to_csv('data_2022/train/train_tags_pure_text.txt',sep=' ', index=False)\n",
    "df_cat[['Title', 'Category','Subcategory','Concept','Pathalias']].to_csv('data_2022/train/train_cat_pure_text.txt',sep=' ', index=False)"
   ]
  },
  {
   "cell_type": "code",
   "execution_count": 2,
   "metadata": {},
   "outputs": [],
   "source": [
    "df_cap1 = pd.read_csv(\"train/train_img_captions.txt\",delimiter=\",\")\n",
    "\n",
    "df_cap2 = pd.read_csv(\"test/test_img_captions.txt\",delimiter=\",\")\n",
    "\n",
    "df_cap = df_cap1.merge(df_cap2, how='outer')\n",
    "df_cap.to_csv('data_2022/train/train_caption.txt',sep=',', index=False)\n",
    "df_cap['Caption'].to_csv('data_2022/train/train_caption_only.txt',sep=',', index=False)"
   ]
  },
  {
   "cell_type": "code",
   "execution_count": 3,
   "metadata": {},
   "outputs": [],
   "source": [
    "with open('train/train_img_captions.txt', 'r') as fp:\n",
    "    data=fp.readlines()\n",
    "import pdb\n",
    "\n",
    "fp2=open('train/train_caption.txt','w', encoding='utf-8')\n",
    "fp2.write('Uid,Pid,Caption\\n')\n",
    "for i in range(1,len(data)):\n",
    "    try:\n",
    "        obj=data[i].split(\",\")\n",
    "        if obj[0]==\"\" or obj[0].find('\\n')!=-1:\n",
    "            continue\n",
    "        obj[0]=obj[0].strip(',')\n",
    "#         print(obj[0]+','+obj[1]+','+' '.join(obj[2:]))\n",
    "        fp2.write(obj[0]+','+obj[1]+','+' '.join(obj[2:]))\n",
    "    except:\n",
    "        pdb.set_trace()\n",
    "fp2.close()"
   ]
  },
  {
   "cell_type": "code",
   "execution_count": 4,
   "metadata": {},
   "outputs": [],
   "source": [
    "with open('test/test_img_captions.txt', 'r') as fp:\n",
    "    data=fp.readlines()\n",
    "import pdb\n",
    "\n",
    "fp2=open('test/test_caption.txt','w', encoding='utf-8')\n",
    "fp2.write('Uid,Pid,Caption\\n')\n",
    "for i in range(1,len(data)):\n",
    "    try:\n",
    "        obj=data[i].split(\",\")\n",
    "        if obj[0]==\"\" or obj[0].find('\\n')!=-1:\n",
    "            continue\n",
    "        obj[0]=obj[0].strip(',')\n",
    "#         print(obj[0]+','+obj[1]+','+' '.join(obj[2:]))\n",
    "        fp2.write(obj[0]+','+obj[1]+','+' '.join(obj[2:]))\n",
    "    except:\n",
    "        pdb.set_trace()\n",
    "fp2.close()"
   ]
  },
  {
   "cell_type": "code",
   "execution_count": null,
   "metadata": {},
   "outputs": [],
   "source": []
  }
 ],
 "metadata": {
  "kernelspec": {
   "display_name": "Python 3",
   "language": "python",
   "name": "python3"
  },
  "language_info": {
   "codemirror_mode": {
    "name": "ipython",
    "version": 3
   },
   "file_extension": ".py",
   "mimetype": "text/x-python",
   "name": "python",
   "nbconvert_exporter": "python",
   "pygments_lexer": "ipython3",
   "version": "3.8.8"
  }
 },
 "nbformat": 4,
 "nbformat_minor": 2
}
