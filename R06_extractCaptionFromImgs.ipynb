{
 "cells": [
  {
   "cell_type": "code",
   "execution_count": 8,
   "metadata": {},
   "outputs": [
    {
     "name": "stdout",
     "output_type": "stream",
     "text": [
      "Total number of files: 305613\n",
      "Not found files  35450\n"
     ]
    }
   ],
   "source": [
    "import os, pdb\n",
    "from shutil import copyfile\n",
    "\n",
    "with open('data_2022/train/train_img_all_list.txt','r') as fp:\n",
    "    data=fp.readlines()\n",
    "len1=len(data)\n",
    "\n",
    "fp = open('data_2022/train/train_img_cap.txt','w')\n",
    "fp.write('Uid,Pid,Caption\\n')\n",
    "\n",
    "\n",
    "cnt = 0\n",
    "print('Total number of files:', len1)\n",
    "for i in range(len1):\n",
    "    line=data[i] \n",
    "    uid, pid, path=line.split(' ')\n",
    "    paths= path.split('/')\n",
    "    if path == \"None\\n\":\n",
    "        fp.write('%s,%s,%s\\n' % (uid, pid, \"None\"))\n",
    "        cnt+=1\n",
    "        continue\n",
    "    \n",
    "    path = \"cap-img/%s/%s/%s/cap.txt\" % (paths[0], paths[1], paths[2])\n",
    "    \n",
    "    if os.path.isfile(path):\n",
    "        with open(path, 'r') as fs:\n",
    "            caps = fs.readlines()\n",
    "        _, cap = caps[0].split(':')\n",
    "        fp.write('%s,%s,%s\\n' % (uid, pid, cap))\n",
    "    else:\n",
    "        fp.write('%s,%s,%s\\n' % (uid, pid, \"None\"))\n",
    "        cnt+=1\n",
    "fp.close()    \n",
    "\n",
    "print('Not found files ', cnt)"
   ]
  },
  {
   "cell_type": "code",
   "execution_count": null,
   "metadata": {},
   "outputs": [],
   "source": []
  }
 ],
 "metadata": {
  "kernelspec": {
   "display_name": "Python 3",
   "language": "python",
   "name": "python3"
  },
  "language_info": {
   "codemirror_mode": {
    "name": "ipython",
    "version": 3
   },
   "file_extension": ".py",
   "mimetype": "text/x-python",
   "name": "python",
   "nbconvert_exporter": "python",
   "pygments_lexer": "ipython3",
   "version": "3.6.7"
  }
 },
 "nbformat": 4,
 "nbformat_minor": 2
}
